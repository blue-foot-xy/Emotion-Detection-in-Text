{
 "cells": [
  {
   "cell_type": "markdown",
   "metadata": {},
   "source": [
    "# Emotion detection in text \n",
    "\n",
    "Here we make an attempt to detect emotions present in a given text, using Machine Learning."
   ]
  },
  {
   "cell_type": "markdown",
   "metadata": {},
   "source": [
    "## Obtaining the data"
   ]
  },
  {
   "cell_type": "code",
   "execution_count": 1,
   "metadata": {},
   "outputs": [
    {
     "data": {
      "text/html": [
       "<div>\n",
       "<style scoped>\n",
       "    .dataframe tbody tr th:only-of-type {\n",
       "        vertical-align: middle;\n",
       "    }\n",
       "\n",
       "    .dataframe tbody tr th {\n",
       "        vertical-align: top;\n",
       "    }\n",
       "\n",
       "    .dataframe thead th {\n",
       "        text-align: right;\n",
       "    }\n",
       "</style>\n",
       "<table border=\"1\" class=\"dataframe\">\n",
       "  <thead>\n",
       "    <tr style=\"text-align: right;\">\n",
       "      <th></th>\n",
       "      <th>emotion</th>\n",
       "      <th>text</th>\n",
       "    </tr>\n",
       "  </thead>\n",
       "  <tbody>\n",
       "    <tr>\n",
       "      <th>0</th>\n",
       "      <td>joy</td>\n",
       "      <td>During the period of falling in love, each tim...</td>\n",
       "    </tr>\n",
       "    <tr>\n",
       "      <th>1</th>\n",
       "      <td>fear</td>\n",
       "      <td>When I was involved in a traffic accident.</td>\n",
       "    </tr>\n",
       "    <tr>\n",
       "      <th>2</th>\n",
       "      <td>anger</td>\n",
       "      <td>When I was driving home after  several days of...</td>\n",
       "    </tr>\n",
       "    <tr>\n",
       "      <th>3</th>\n",
       "      <td>sadness</td>\n",
       "      <td>When I lost the person who meant the most to me.</td>\n",
       "    </tr>\n",
       "    <tr>\n",
       "      <th>4</th>\n",
       "      <td>disgust</td>\n",
       "      <td>The time I knocked a deer down - the sight of ...</td>\n",
       "    </tr>\n",
       "    <tr>\n",
       "      <th>...</th>\n",
       "      <td>...</td>\n",
       "      <td>...</td>\n",
       "    </tr>\n",
       "    <tr>\n",
       "      <th>7475</th>\n",
       "      <td>anger</td>\n",
       "      <td>Two years back someone invited me to be the tu...</td>\n",
       "    </tr>\n",
       "    <tr>\n",
       "      <th>7476</th>\n",
       "      <td>sadness</td>\n",
       "      <td>I had taken the responsibility to do something...</td>\n",
       "    </tr>\n",
       "    <tr>\n",
       "      <th>7477</th>\n",
       "      <td>disgust</td>\n",
       "      <td>I was at home and I heard a loud sound of spit...</td>\n",
       "    </tr>\n",
       "    <tr>\n",
       "      <th>7478</th>\n",
       "      <td>shame</td>\n",
       "      <td>I did not do the homework that the teacher had...</td>\n",
       "    </tr>\n",
       "    <tr>\n",
       "      <th>7479</th>\n",
       "      <td>guilt</td>\n",
       "      <td>I had shouted at my younger brother and he was...</td>\n",
       "    </tr>\n",
       "  </tbody>\n",
       "</table>\n",
       "<p>7480 rows × 2 columns</p>\n",
       "</div>"
      ],
      "text/plain": [
       "      emotion                                               text\n",
       "0         joy  During the period of falling in love, each tim...\n",
       "1        fear         When I was involved in a traffic accident.\n",
       "2       anger  When I was driving home after  several days of...\n",
       "3     sadness   When I lost the person who meant the most to me.\n",
       "4     disgust  The time I knocked a deer down - the sight of ...\n",
       "...       ...                                                ...\n",
       "7475    anger  Two years back someone invited me to be the tu...\n",
       "7476  sadness  I had taken the responsibility to do something...\n",
       "7477  disgust  I was at home and I heard a loud sound of spit...\n",
       "7478    shame  I did not do the homework that the teacher had...\n",
       "7479    guilt  I had shouted at my younger brother and he was...\n",
       "\n",
       "[7480 rows x 2 columns]"
      ]
     },
     "execution_count": 1,
     "metadata": {},
     "output_type": "execute_result"
    }
   ],
   "source": [
    "import numpy as np\n",
    "import pandas as pd\n",
    "data = pd.read_csv(\"data.csv\")\n",
    "data"
   ]
  },
  {
   "cell_type": "code",
   "execution_count": 2,
   "metadata": {},
   "outputs": [
    {
     "data": {
      "text/plain": [
       "['During the period of falling in love, each time that we met and especially when we had not met for a long time.',\n",
       " 'When I was involved in a traffic accident.',\n",
       " 'When I was driving home after  several days of hard work, there was a motorist ahead of me who was driving at 50 km/hour and refused, despite his low speeed to let me overtake.',\n",
       " 'When I lost the person who meant the most to me.',\n",
       " \"The time I knocked a deer down - the sight of the animal's injuries and helplessness.  The realization that the animal was so badly hurt that it had to be put down, and when the animal screamed at the moment of death.\",\n",
       " 'When I did not speak the truth.',\n",
       " 'When I caused problems for somebody because he could not keep the appointed time and this led to various consequences.',\n",
       " 'When I got a letter offering me the Summer job that I had applied for.',\n",
       " 'When I was going home alone one night in Paris and a man came up behind me and asked me if I was not afraid to be out alone so late at night.',\n",
       " 'When I was talking to HIM at a party for the first time in a long while and a friend came and interrupted us and HE left.']"
      ]
     },
     "execution_count": 2,
     "metadata": {},
     "output_type": "execute_result"
    }
   ],
   "source": [
    "texts = data[\"text\"].tolist()\n",
    "texts[:10]"
   ]
  },
  {
   "cell_type": "code",
   "execution_count": 3,
   "metadata": {},
   "outputs": [
    {
     "data": {
      "text/plain": [
       "['joy',\n",
       " 'fear',\n",
       " 'anger',\n",
       " 'sadness',\n",
       " 'disgust',\n",
       " 'shame',\n",
       " 'guilt',\n",
       " 'joy',\n",
       " 'fear',\n",
       " 'anger']"
      ]
     },
     "execution_count": 3,
     "metadata": {},
     "output_type": "execute_result"
    }
   ],
   "source": [
    "emotions = data[\"emotion\"].tolist()\n",
    "emotions[:10]"
   ]
  },
  {
   "cell_type": "markdown",
   "metadata": {},
   "source": [
    "## Test-train split"
   ]
  },
  {
   "cell_type": "code",
   "execution_count": 4,
   "metadata": {},
   "outputs": [],
   "source": [
    "from sklearn.model_selection import train_test_split\n",
    "\n",
    "train_features, test_features, train_labels, test_labels = train_test_split(texts, emotions, test_size = 0.2, random_state = 300)"
   ]
  },
  {
   "cell_type": "markdown",
   "metadata": {},
   "source": [
    "## Preprocessing the features (i.e. texts)"
   ]
  },
  {
   "cell_type": "code",
   "execution_count": 5,
   "metadata": {},
   "outputs": [],
   "source": [
    "from keras.preprocessing.text import Tokenizer\n",
    "from keras.preprocessing.sequence import pad_sequences"
   ]
  },
  {
   "cell_type": "code",
   "execution_count": 6,
   "metadata": {},
   "outputs": [],
   "source": [
    "maxlen = 100            # We will cut the texts after 100 words\n",
    "max_vocab_size = 7500  # We will only consider the top 7500 words in the dataset"
   ]
  },
  {
   "cell_type": "code",
   "execution_count": 7,
   "metadata": {},
   "outputs": [],
   "source": [
    "# Encoding each words in the available texts with numbers\n",
    "tokenizer = Tokenizer(num_words=max_vocab_size)\n",
    "tokenizer.fit_on_texts(train_features)\n",
    "sequences = tokenizer.texts_to_sequences(train_features)"
   ]
  },
  {
   "cell_type": "code",
   "execution_count": 8,
   "metadata": {},
   "outputs": [
    {
     "data": {
      "text/plain": [
       "[[35,\n",
       "  79,\n",
       "  132,\n",
       "  3,\n",
       "  777,\n",
       "  9,\n",
       "  85,\n",
       "  41,\n",
       "  205,\n",
       "  12,\n",
       "  2,\n",
       "  212,\n",
       "  9,\n",
       "  969,\n",
       "  6,\n",
       "  71,\n",
       "  12,\n",
       "  1522,\n",
       "  84,\n",
       "  130,\n",
       "  138,\n",
       "  15,\n",
       "  184,\n",
       "  19,\n",
       "  281],\n",
       " [1378,\n",
       "  736,\n",
       "  50,\n",
       "  16,\n",
       "  5,\n",
       "  113,\n",
       "  29,\n",
       "  11,\n",
       "  46,\n",
       "  255,\n",
       "  15,\n",
       "  171,\n",
       "  2,\n",
       "  114,\n",
       "  1,\n",
       "  7,\n",
       "  870,\n",
       "  6,\n",
       "  303,\n",
       "  171,\n",
       "  3,\n",
       "  533,\n",
       "  99,\n",
       "  1,\n",
       "  7,\n",
       "  18,\n",
       "  104]]"
      ]
     },
     "execution_count": 8,
     "metadata": {},
     "output_type": "execute_result"
    }
   ],
   "source": [
    "# Let's take a look at some of the texts in their vector form\n",
    "sequences[:2]"
   ]
  },
  {
   "cell_type": "code",
   "execution_count": 9,
   "metadata": {},
   "outputs": [
    {
     "name": "stdout",
     "output_type": "stream",
     "text": [
      "[('rating', 8150), ('bearing', 8149), ('skiers', 8148), ('austrian', 8147), ('jest', 8146), ('immensely', 8145), ('paddling', 8144), ('relaxing', 8143), ('anticipated', 8142), ('photos', 8141)]\n"
     ]
    }
   ],
   "source": [
    "from collections import Counter\n",
    "\n",
    "def peek_at_the_vocab(vocab, no_of_items):\n",
    "        print(Counter(vocab).most_common(no_of_items))\n",
    "     \n",
    "# Let's take a look at the vocabulary used in the conversion\n",
    "word_index = tokenizer.word_index\n",
    "peek_at_the_vocab(word_index, 10)"
   ]
  },
  {
   "cell_type": "code",
   "execution_count": 10,
   "metadata": {},
   "outputs": [
    {
     "data": {
      "text/plain": [
       "8150"
      ]
     },
     "execution_count": 10,
     "metadata": {},
     "output_type": "execute_result"
    }
   ],
   "source": [
    "len(word_index)"
   ]
  },
  {
   "cell_type": "code",
   "execution_count": 11,
   "metadata": {},
   "outputs": [
    {
     "data": {
      "text/plain": [
       "array([[   0,    0,    0, ...,  184,   19,  281],\n",
       "       [   0,    0,    0, ...,    7,   18,  104],\n",
       "       [   0,    0,    0, ...,   18,    5,  151],\n",
       "       ...,\n",
       "       [   0,    0,    0, ...,    1,   11,  175],\n",
       "       [   0,    0,    0, ...,   11,   43, 1851],\n",
       "       [   0,    0,    0, ...,   41,   66, 1477]], dtype=int32)"
      ]
     },
     "execution_count": 11,
     "metadata": {},
     "output_type": "execute_result"
    }
   ],
   "source": [
    "# Making all texts of equal length 'maxlen=100', by removing off\n",
    "# rest of the part if it's long and adding 0's if it's short\n",
    "X_train = pad_sequences(sequences, maxlen=maxlen)\n",
    "X_train"
   ]
  },
  {
   "cell_type": "markdown",
   "metadata": {},
   "source": [
    "## Pre-processing labels (i.e. emotions)"
   ]
  },
  {
   "cell_type": "code",
   "execution_count": 12,
   "metadata": {},
   "outputs": [],
   "source": [
    "emotion_dict = {\n",
    "            \"joy\": 0, \n",
    "            'fear': 1, \n",
    "            \"anger\": 2, \n",
    "            \"sadness\": 3, \n",
    "            \"disgust\": 4, \n",
    "            \"shame\": 5, \n",
    "            \"guilt\": 6\n",
    "}\n",
    "\n",
    "\n",
    "def convert_label(label):\n",
    "    return emotion_dict[label]"
   ]
  },
  {
   "cell_type": "code",
   "execution_count": 13,
   "metadata": {},
   "outputs": [
    {
     "data": {
      "text/plain": [
       "array([3, 3, 4, ..., 6, 2, 6])"
      ]
     },
     "execution_count": 13,
     "metadata": {},
     "output_type": "execute_result"
    }
   ],
   "source": [
    "y_train = np.array(list(map(lambda x: convert_label(x), train_labels)))\n",
    "y_train"
   ]
  },
  {
   "cell_type": "markdown",
   "metadata": {},
   "source": [
    "# Creating the model"
   ]
  },
  {
   "cell_type": "code",
   "execution_count": 14,
   "metadata": {},
   "outputs": [],
   "source": [
    "from keras import Sequential\n",
    "from keras.layers import Embedding, Dense, Conv1D, GlobalMaxPooling1D, MaxPooling1D\n",
    "\n",
    "batch_size = 64\n",
    "output_size = len(emotion_dict)\n",
    "embedding_vector_dims = 64\n",
    "\n",
    "model = Sequential([\n",
    "    Embedding(max_vocab_size, embedding_vector_dims, input_length=maxlen), \n",
    "    Conv1D(190, 2, activation='relu'),\n",
    "    MaxPooling1D(3),\n",
    "    Conv1D(190, 4, activation='relu'),\n",
    "    GlobalMaxPooling1D(),\n",
    "    Dense(output_size, activation='softmax') \n",
    "])"
   ]
  },
  {
   "cell_type": "code",
   "execution_count": 15,
   "metadata": {},
   "outputs": [
    {
     "name": "stdout",
     "output_type": "stream",
     "text": [
      "Model: \"sequential\"\n",
      "_________________________________________________________________\n",
      "Layer (type)                 Output Shape              Param #   \n",
      "=================================================================\n",
      "embedding (Embedding)        (None, 100, 64)           480000    \n",
      "_________________________________________________________________\n",
      "conv1d (Conv1D)              (None, 99, 190)           24510     \n",
      "_________________________________________________________________\n",
      "max_pooling1d (MaxPooling1D) (None, 33, 190)           0         \n",
      "_________________________________________________________________\n",
      "conv1d_1 (Conv1D)            (None, 30, 190)           144590    \n",
      "_________________________________________________________________\n",
      "global_max_pooling1d (Global (None, 190)               0         \n",
      "_________________________________________________________________\n",
      "dense (Dense)                (None, 7)                 1337      \n",
      "=================================================================\n",
      "Total params: 650,437\n",
      "Trainable params: 650,437\n",
      "Non-trainable params: 0\n",
      "_________________________________________________________________\n"
     ]
    }
   ],
   "source": [
    "model.summary()"
   ]
  },
  {
   "cell_type": "markdown",
   "metadata": {},
   "source": [
    "## Training the model"
   ]
  },
  {
   "cell_type": "code",
   "execution_count": 16,
   "metadata": {
    "scrolled": true
   },
   "outputs": [
    {
     "name": "stdout",
     "output_type": "stream",
     "text": [
      "Epoch 1/4\n",
      "75/75 [==============================] - 4s 44ms/step - loss: 1.9448 - accuracy: 0.1471 - val_loss: 1.8953 - val_accuracy: 0.2615\n",
      "Epoch 2/4\n",
      "75/75 [==============================] - 3s 40ms/step - loss: 1.7465 - accuracy: 0.3562 - val_loss: 1.3601 - val_accuracy: 0.5121\n",
      "Epoch 3/4\n",
      "75/75 [==============================] - 3s 39ms/step - loss: 0.9702 - accuracy: 0.6696 - val_loss: 1.2287 - val_accuracy: 0.5848\n",
      "Epoch 4/4\n",
      "75/75 [==============================] - 3s 40ms/step - loss: 0.5350 - accuracy: 0.8416 - val_loss: 1.3989 - val_accuracy: 0.5840\n"
     ]
    }
   ],
   "source": [
    "model.compile(optimizer='adam', loss='sparse_categorical_crossentropy', metrics=['accuracy'])\n",
    "\n",
    "history = model.fit(X_train, y_train, epochs=4, validation_split=0.2, batch_size=batch_size)"
   ]
  },
  {
   "cell_type": "markdown",
   "metadata": {},
   "source": [
    "## Evaluating the results"
   ]
  },
  {
   "cell_type": "code",
   "execution_count": 17,
   "metadata": {},
   "outputs": [
    {
     "data": {
      "image/png": "[encoded data removed]",
      "text/plain": [
       "<Figure size 432x288 with 1 Axes>"
      ]
     },
     "metadata": {
      "needs_background": "light"
     },
     "output_type": "display_data"
    },
    {
     "data": {
      "image/png": "[encoded data removed]",
      "text/plain": [
       "<Figure size 432x288 with 1 Axes>"
      ]
     },
     "metadata": {
      "needs_background": "light"
     },
     "output_type": "display_data"
    }
   ],
   "source": [
    "import matplotlib.pyplot as plt\n",
    "\n",
    "acc = history.history['accuracy']\n",
    "val_acc = history.history['val_accuracy']\n",
    "loss = history.history['loss']\n",
    "val_loss = history.history['val_loss']\n",
    "\n",
    "epochs = range(1, len(acc) + 1)\n",
    "\n",
    "plt.plot(epochs, acc, 'bo', label='Training accuracy')\n",
    "plt.plot(epochs, val_acc, 'b', label='Validation accuracy')\n",
    "plt.title('Training and validation accuracy')\n",
    "plt.legend()\n",
    "\n",
    "plt.figure()\n",
    "\n",
    "plt.plot(epochs, loss, 'bo', label='Training loss')\n",
    "plt.plot(epochs, val_loss, 'b', label='Validation loss')\n",
    "plt.title('Training and validation loss')\n",
    "plt.legend()\n",
    "\n",
    "plt.show()"
   ]
  },
  {
   "cell_type": "code",
   "execution_count": 18,
   "metadata": {},
   "outputs": [
    {
     "name": "stdout",
     "output_type": "stream",
     "text": [
      "47/47 [==============================] - 0s 6ms/step - loss: 1.3610 - accuracy: 0.5929\n",
      "[1.3609843254089355, 0.5929144620895386]\n"
     ]
    }
   ],
   "source": [
    "X_test = pad_sequences(tokenizer.texts_to_sequences(test_features), maxlen=maxlen)\n",
    "y_test = np.array(list(map(lambda x: convert_label(x), test_labels)))\n",
    "\n",
    "results = model.evaluate(X_test, y_test)\n",
    "print(results)"
   ]
  },
  {
   "cell_type": "markdown",
   "metadata": {},
   "source": [
    "## Making predictions"
   ]
  },
  {
   "cell_type": "code",
   "execution_count": 19,
   "metadata": {},
   "outputs": [],
   "source": [
    "def plot_result(text):\n",
    "    text_vector = pad_sequences(tokenizer.texts_to_sequences([text]), maxlen=maxlen)\n",
    "    prediction = model.predict(text_vector)\n",
    "\n",
    "    plt.ylim([0,1])\n",
    "    plt.xlabel(\"Emotions\")\n",
    "    plt.ylabel(\"Probability\")\n",
    "    plt.title(\"Text: \" + text)\n",
    "    plt.tight_layout()\n",
    "\n",
    "    plt.bar(range(len(prediction[0])), prediction[0], tick_label=[\"joy\", 'fear', \"anger\", \"sadness\", \"disgust\", \"shame\", \"guilt\"])"
   ]
  },
  {
   "cell_type": "code",
   "execution_count": 20,
   "metadata": {},
   "outputs": [
    {
     "data": {
      "image/png": "[encoded data removed]",
      "text/plain": [
       "<Figure size 432x288 with 1 Axes>"
      ]
     },
     "metadata": {
      "needs_background": "light"
     },
     "output_type": "display_data"
    }
   ],
   "source": [
    "text = \"I loved that place beacuse it was so great and amazing.\"\n",
    "plot_result(text)"
   ]
  },
  {
   "cell_type": "code",
   "execution_count": 25,
   "metadata": {},
   "outputs": [
    {
     "data": {
      "image/png": "[encoded data removed]",
      "text/plain": [
       "<Figure size 432x288 with 1 Axes>"
      ]
     },
     "metadata": {
      "needs_background": "light"
     },
     "output_type": "display_data"
    }
   ],
   "source": [
    "text = \"You are a totally useless and stinky animal\"\n",
    "plot_result(text)"
   ]
  },
  {
   "cell_type": "markdown",
   "metadata": {},
   "source": [
    "## Conclusion\n",
    "\n",
    "Here we stopped at an accuracy of about 58%, which is very far from being enough, still the results obtained are worth looking at. \n",
    "\n",
    "Throughout the different trials and observations, it turned out that two convolutional layers stacked on top of one another can give higher accuracy than other implementations such as using recurrent neural networks to solve this problem. This could be beacuse small portions of the sentence are actually more responsible for determining the emotions present on it rather than the whole sequence.\n",
    "\n",
    "It should be possible to improve the accuracy of the model through a bigger and better dataset. Also utilising different pre-trained models and word embeddings available on the internet might end up giving us better results. We also need to note that, there will always be a hole in our training data during this kind of analysis, due to the fact that emotions that is being conveyed also depends on the facial expressions and the tone of the speaker's voice, besides the words and their sequences which we're analysing."
   ]
  },
  {
   "cell_type": "markdown",
   "metadata": {},
   "source": [
    "## References\n",
    "\n",
    "1. https://thecleverprogrammer.com/2021/02/19/text-emotions-detection-with-machine-learning/\n",
    "2. Deep Learning with Python, 1st Edition by François Chollet "
   ]
  }
 ],
 "metadata": {
  "kernelspec": {
   "display_name": "Python 3",
   "language": "python",
   "name": "python3"
  },
  "language_info": {
   "codemirror_mode": {
    "name": "ipython",
    "version": 3
   },
   "file_extension": ".py",
   "mimetype": "text/x-python",
   "name": "python",
   "nbconvert_exporter": "python",
   "pygments_lexer": "ipython3",
   "version": "3.8.5"
  }
 },
 "nbformat": 4,
 "nbformat_minor": 4
}
